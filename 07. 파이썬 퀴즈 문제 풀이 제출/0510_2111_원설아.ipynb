{
  "nbformat": 4,
  "nbformat_minor": 0,
  "metadata": {
    "colab": {
      "provenance": []
    },
    "kernelspec": {
      "name": "python3",
      "display_name": "Python 3"
    },
    "language_info": {
      "name": "python"
    }
  },
  "cells": [
    {
      "cell_type": "code",
      "execution_count": 1,
      "metadata": {
        "colab": {
          "base_uri": "https://localhost:8080/"
        },
        "id": "QHDMvnRFIOI8",
        "outputId": "581b5439-1919-4187-c174-e96a998d17d3"
      },
      "outputs": [
        {
          "output_type": "stream",
          "name": "stdout",
          "text": [
            "[10, 30, 50]\n"
          ]
        }
      ],
      "source": [
        "L = [ data for data in range(0, 100, 10) ]\n",
        "# 0부터 100까지 10 간격 리스트\n",
        "\n",
        "print(L[1:6:2])\n",
        "# 1번째부터 5번째 인덱스까지, 2 간격으로"
      ]
    },
    {
      "cell_type": "code",
      "source": [
        "s = '''when you take off a mask, store it in a clean plastic bag.\n",
        "    you make sure it covers both youre nose and mouth.'''\n",
        "\n",
        "s = s.replace(',', '').replace('.', '')\n",
        "L = s.split()\n",
        "D = { word: len(word) for word in L }\n",
        "\n",
        "print(D)"
      ],
      "metadata": {
        "colab": {
          "base_uri": "https://localhost:8080/"
        },
        "id": "PPATZx7HI6O4",
        "outputId": "5eec1399-b88f-44ff-9e4d-f72e8bd3c21c"
      },
      "execution_count": 8,
      "outputs": [
        {
          "output_type": "stream",
          "name": "stdout",
          "text": [
            "{'when': 4, 'you': 3, 'take': 4, 'off': 3, 'a': 1, 'mask': 4, 'store': 5, 'it': 2, 'in': 2, 'clean': 5, 'plastic': 7, 'bag': 3, 'make': 4, 'sure': 4, 'covers': 6, 'both': 4, 'youre': 5, 'nose': 4, 'and': 3, 'mouth': 5}\n"
          ]
        }
      ]
    },
    {
      "cell_type": "code",
      "source": [
        "Hp = ['010-1234-1234', '010-2213-9898', '010-3132-6123']\n",
        "D = [num.split('-')[1] for num in Hp]\n",
        "E = list(map(int, D))\n",
        "\n",
        "print(sum(E))"
      ],
      "metadata": {
        "colab": {
          "base_uri": "https://localhost:8080/"
        },
        "id": "lFLUv9zPJiA4",
        "outputId": "0b427ea4-0ecf-445c-b622-6211c3e05667"
      },
      "execution_count": 9,
      "outputs": [
        {
          "output_type": "stream",
          "name": "stdout",
          "text": [
            "6579\n"
          ]
        }
      ]
    },
    {
      "cell_type": "code",
      "source": [
        "s = 'Great software is supported by great people'\n",
        "mo = 'aeiou'\n",
        "D = {mo[i]: s.count(mo[i]) for i in range(5)}\n",
        "print(D)"
      ],
      "metadata": {
        "colab": {
          "base_uri": "https://localhost:8080/"
        },
        "id": "WCzDLXoWJ694",
        "outputId": "ed09abd8-36c2-4f0f-e9d3-070b3922d5a7"
      },
      "execution_count": 15,
      "outputs": [
        {
          "output_type": "stream",
          "name": "stdout",
          "text": [
            "{'a': 3, 'e': 6, 'i': 1, 'o': 3, 'u': 1}\n"
          ]
        }
      ]
    },
    {
      "cell_type": "code",
      "source": [
        "def myf(k):\n",
        "  return max(map(lambda x: x%2, k))\n",
        "\n",
        "D = {'a':len, 'b':sum, 'c':myf}\n",
        "\n",
        "m = input('a, b, c를 원하는 순서대로 입력(예: bca): ')\n",
        "\n",
        "for f in m:\n",
        "  print(D[f]([1, 4, 9]))\n",
        "  print(D[f]([x for x in range(0, 10, 3)]))"
      ],
      "metadata": {
        "colab": {
          "base_uri": "https://localhost:8080/"
        },
        "id": "0_mkAVuLKbv_",
        "outputId": "7615bbbf-c87c-436c-9bf8-6c8e7c99382c"
      },
      "execution_count": 16,
      "outputs": [
        {
          "output_type": "stream",
          "name": "stdout",
          "text": [
            "a, b, c를 원하는 순서대로 입력(예: bca): bca\n",
            "14\n",
            "18\n",
            "1\n",
            "1\n",
            "3\n",
            "4\n"
          ]
        }
      ]
    },
    {
      "cell_type": "code",
      "source": [
        "L = list(map(len, (map(lambda a:a.capitalize(), input().split()))))\n",
        "\n",
        "# 각 요소의 길이 출력\n",
        "print(L)"
      ],
      "metadata": {
        "colab": {
          "base_uri": "https://localhost:8080/"
        },
        "id": "jmbsZVBvLWbr",
        "outputId": "b0bad42d-47ea-43e3-9891-77d61a357b66"
      },
      "execution_count": 17,
      "outputs": [
        {
          "output_type": "stream",
          "name": "stdout",
          "text": [
            "kim jeong kook\n",
            "[3, 5, 4]\n"
          ]
        }
      ]
    },
    {
      "cell_type": "code",
      "source": [
        "num = int(input())\n",
        "if num < 0 or num > 99:\n",
        "  print('잘못 입력하셨습니다.')\n",
        "\n",
        "else:\n",
        "  n1 = num % 10\n",
        "  n2 = num // 10\n",
        "  if n1 % 3 == 0 or n2 % 3 == 0:\n",
        "    print('True')\n",
        "  else:\n",
        "    print('False')"
      ],
      "metadata": {
        "colab": {
          "base_uri": "https://localhost:8080/"
        },
        "id": "cxgnmiL6LkQQ",
        "outputId": "ddf76593-a1f3-4d35-b623-074db71e3e7a"
      },
      "execution_count": 19,
      "outputs": [
        {
          "output_type": "stream",
          "name": "stdout",
          "text": [
            "36\n",
            "True\n"
          ]
        }
      ]
    },
    {
      "cell_type": "code",
      "source": [
        "import matplotlib.pyplot as plt\n",
        "import numpy as np\n",
        "\n",
        "th = np.arange(360)\n",
        "x = np.cos(np.radians(th))\n",
        "y = np.sin(np.radians(th))\n",
        "plt.plot(x, y)\n",
        "plt.axis('equal')\n",
        "plt.show()"
      ],
      "metadata": {
        "colab": {
          "base_uri": "https://localhost:8080/",
          "height": 430
        },
        "id": "747fwUYdLkM2",
        "outputId": "6b22c751-4c0e-4353-8ba7-76e183e94043"
      },
      "execution_count": 25,
      "outputs": [
        {
          "output_type": "display_data",
          "data": {
            "text/plain": [
              "<Figure size 640x480 with 1 Axes>"
            ],
            "image/png": "[encoded data removed]"
          },
          "metadata": {}
        }
      ]
    },
    {
      "cell_type": "code",
      "source": [
        "a = {}\n",
        "s = input()\n",
        "\n",
        "a = dict(s)\n",
        "\n",
        "print(a)"
      ],
      "metadata": {
        "colab": {
          "base_uri": "https://localhost:8080/",
          "height": 252
        },
        "id": "IRrCnO1TMSdS",
        "outputId": "963f4df2-dabb-4706-e7a8-351a44589852"
      },
      "execution_count": 26,
      "outputs": [
        {
          "name": "stdout",
          "output_type": "stream",
          "text": [
            "홍길동:010-1234-1234\n"
          ]
        },
        {
          "output_type": "error",
          "ename": "ValueError",
          "evalue": "ignored",
          "traceback": [
            "\u001b[0;31m---------------------------------------------------------------------------\u001b[0m",
            "\u001b[0;31mValueError\u001b[0m                                Traceback (most recent call last)",
            "\u001b[0;32m<ipython-input-26-dfcefbf7b568>\u001b[0m in \u001b[0;36m<cell line: 4>\u001b[0;34m()\u001b[0m\n\u001b[1;32m      2\u001b[0m \u001b[0ms\u001b[0m \u001b[0;34m=\u001b[0m \u001b[0minput\u001b[0m\u001b[0;34m(\u001b[0m\u001b[0;34m)\u001b[0m\u001b[0;34m\u001b[0m\u001b[0;34m\u001b[0m\u001b[0m\n\u001b[1;32m      3\u001b[0m \u001b[0;34m\u001b[0m\u001b[0m\n\u001b[0;32m----> 4\u001b[0;31m \u001b[0ma\u001b[0m \u001b[0;34m=\u001b[0m \u001b[0mdict\u001b[0m\u001b[0;34m(\u001b[0m\u001b[0ms\u001b[0m\u001b[0;34m)\u001b[0m\u001b[0;34m\u001b[0m\u001b[0;34m\u001b[0m\u001b[0m\n\u001b[0m\u001b[1;32m      5\u001b[0m \u001b[0;34m\u001b[0m\u001b[0m\n\u001b[1;32m      6\u001b[0m \u001b[0mprint\u001b[0m\u001b[0;34m(\u001b[0m\u001b[0ma\u001b[0m\u001b[0;34m)\u001b[0m\u001b[0;34m\u001b[0m\u001b[0;34m\u001b[0m\u001b[0m\n",
            "\u001b[0;31mValueError\u001b[0m: dictionary update sequence element #0 has length 1; 2 is required"
          ]
        }
      ]
    },
    {
      "cell_type": "code",
      "source": [
        "import random\n",
        "1\n",
        "nums = []\n",
        "for i in range(5):\n",
        "  nums.append(int(input()))\n",
        "print('%.2f'%( (sum(nums)-max(nums)-min(nums) ) / 3))"
      ],
      "metadata": {
        "colab": {
          "base_uri": "https://localhost:8080/"
        },
        "id": "f0RWf1z1MgIh",
        "outputId": "2d0def58-9a6a-429e-fc01-3ac343dda21d"
      },
      "execution_count": 28,
      "outputs": [
        {
          "output_type": "stream",
          "name": "stdout",
          "text": [
            "1\n",
            "4\n",
            "7\n",
            "9\n",
            "6\n",
            "5.67\n"
          ]
        }
      ]
    },
    {
      "cell_type": "code",
      "source": [
        "n = int(input())\n",
        "\n",
        "for i in range(n):\n",
        "  print(' '*i)\n",
        "  print('*'*(n-i))"
      ],
      "metadata": {
        "colab": {
          "base_uri": "https://localhost:8080/"
        },
        "id": "-xN7BoItMwaA",
        "outputId": "9fbe198b-e243-45b5-f800-6f8d84187adb"
      },
      "execution_count": 30,
      "outputs": [
        {
          "output_type": "stream",
          "name": "stdout",
          "text": [
            "5\n",
            "\n",
            "*****\n",
            " \n",
            "****\n",
            "  \n",
            "***\n",
            "   \n",
            "**\n",
            "    \n",
            "*\n"
          ]
        }
      ]
    },
    {
      "cell_type": "code",
      "source": [
        "import random\n",
        "\n",
        "data = [random.randint(1, 100) for i in range(5)]\n",
        "print('정렬 전 : ', data)\n",
        "\n",
        "for i in range(len(data)):\n",
        "  minIndex = i\n",
        "\n",
        "  for j in range(i+1, len(data)):\n",
        "    if data[j] < data[minIndex]:\n",
        "      minIndex = j\n",
        "\n",
        "  data[i], data[minIndex] = data[minIndex], data[i]\n",
        "  print(i+1, '회전 :', data)"
      ],
      "metadata": {
        "colab": {
          "base_uri": "https://localhost:8080/"
        },
        "id": "CvMnn70nNRWV",
        "outputId": "23ad5381-a560-4a8e-febd-9aa9d88a933c"
      },
      "execution_count": 32,
      "outputs": [
        {
          "output_type": "stream",
          "name": "stdout",
          "text": [
            "정렬 전 :  [33, 27, 14, 78, 76]\n",
            "1 회전 : [14, 27, 33, 78, 76]\n",
            "2 회전 : [14, 27, 33, 78, 76]\n",
            "3 회전 : [14, 27, 33, 78, 76]\n",
            "4 회전 : [14, 27, 33, 76, 78]\n",
            "5 회전 : [14, 27, 33, 76, 78]\n"
          ]
        }
      ]
    },
    {
      "cell_type": "code",
      "source": [
        "import pandas as pd\n",
        "\n",
        "tables = pd.read_html('https://www.koreabaseball.com/Record/Player/HitterBasic/Basic1.aspx')\n",
        "tables[0].to_excel(\"KBO_타자기록.xlsx\")\n",
        "\n",
        "df = pd.DataFrame(tables[0], columns = ['순위', '선수명', '팀명', 'AVG'])\n",
        "\n",
        "print(df.info())\n",
        "print(df.head())\n",
        "\n",
        "mvp = df.loc[df['AVG'].idxmax()]\n",
        "last = df.loc[df['AVG'].idxmin()]\n",
        "print(mvp, last)"
      ],
      "metadata": {
        "colab": {
          "base_uri": "https://localhost:8080/"
        },
        "id": "YVD7aA3GN-qK",
        "outputId": "cc038f69-9843-42a9-c2ce-33de7f4ec764"
      },
      "execution_count": 33,
      "outputs": [
        {
          "output_type": "stream",
          "name": "stdout",
          "text": [
            "<class 'pandas.core.frame.DataFrame'>\n",
            "RangeIndex: 30 entries, 0 to 29\n",
            "Data columns (total 4 columns):\n",
            " #   Column  Non-Null Count  Dtype  \n",
            "---  ------  --------------  -----  \n",
            " 0   순위      30 non-null     int64  \n",
            " 1   선수명     30 non-null     object \n",
            " 2   팀명      30 non-null     object \n",
            " 3   AVG     30 non-null     float64\n",
            "dtypes: float64(1), int64(1), object(2)\n",
            "memory usage: 1.1+ KB\n",
            "None\n",
            "   순위   선수명   팀명    AVG\n",
            "0   1  에레디아  SSG  0.373\n",
            "1   2   알포드   KT  0.358\n",
            "2   3   오스틴   LG  0.357\n",
            "3   4   최지훈  SSG  0.352\n",
            "4   5   노시환   한화  0.351\n",
            "순위         1\n",
            "선수명     에레디아\n",
            "팀명       SSG\n",
            "AVG    0.373\n",
            "Name: 0, dtype: object 순위        30\n",
            "선수명      양의지\n",
            "팀명        두산\n",
            "AVG    0.278\n",
            "Name: 29, dtype: object\n"
          ]
        }
      ]
    },
    {
      "cell_type": "code",
      "source": [
        "import numpy as np\n",
        "import pandas as pd\n",
        "import seaborn as sns\n",
        "\n",
        "df = sns.load_dataset('titanic')\n",
        "print(df.head())\n",
        "\n",
        "condition = (df['adult_male'] == True)\n",
        "print('=' * 80)\n",
        "print('성인 남성 나이 평균 : %2.f '%(df.loc[condition, 'age'].mean()))"
      ],
      "metadata": {
        "colab": {
          "base_uri": "https://localhost:8080/"
        },
        "id": "LIvx2rjwO0LQ",
        "outputId": "6cf4d4ab-679d-481d-9c77-c5477ced251a"
      },
      "execution_count": 35,
      "outputs": [
        {
          "output_type": "stream",
          "name": "stdout",
          "text": [
            "   survived  pclass     sex   age  sibsp  parch     fare embarked  class  \\\n",
            "0         0       3    male  22.0      1      0   7.2500        S  Third   \n",
            "1         1       1  female  38.0      1      0  71.2833        C  First   \n",
            "2         1       3  female  26.0      0      0   7.9250        S  Third   \n",
            "3         1       1  female  35.0      1      0  53.1000        S  First   \n",
            "4         0       3    male  35.0      0      0   8.0500        S  Third   \n",
            "\n",
            "     who  adult_male deck  embark_town alive  alone  \n",
            "0    man        True  NaN  Southampton    no  False  \n",
            "1  woman       False    C    Cherbourg   yes  False  \n",
            "2  woman       False  NaN  Southampton   yes   True  \n",
            "3  woman       False    C  Southampton   yes  False  \n",
            "4    man        True  NaN  Southampton    no   True  \n",
            "================================================================================\n",
            "성인 여성 나이 평균 : 33 \n"
          ]
        }
      ]
    }
  ]
}