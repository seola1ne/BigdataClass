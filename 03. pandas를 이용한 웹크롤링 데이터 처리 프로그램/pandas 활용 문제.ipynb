{
 "cells": [
  {
   "cell_type": "code",
   "execution_count": 2,
   "metadata": {},
   "outputs": [
    {
     "name": "stdout",
     "output_type": "stream",
     "text": [
      "    순위  선수명   팀명    AVG  G  PA  AB   H  2B  3B  HR  RBI  SB  CS  BB  HBP  SO  \\\n",
      "0    1  변우혁  KIA  0.429  8  25  21   9   1   0   1    3   0   0   3    1   6   \n",
      "1    2  문성주   LG  0.400  8  37  35  14   2   0   1    7   0   1   2    0   1   \n",
      "2    3  김도영  KIA  0.370  7  30  27  10   1   0   2    7   2   0   3    0   3   \n",
      "3    4  서건창   LG  0.333  7  29  27   9   2   0   0    3   3   0   2    0   4   \n",
      "4    4  조용호   KT  0.333  8  24  21   7   1   0   0    2   1   0   3    0   2   \n",
      "5    4  김태훈   삼성  0.333  8  25  24   8   1   0   2   10   0   0   1    0   7   \n",
      "6    7  홍창기   LG  0.318  8  32  22   7   0   0   0    2   5   1   7    2   6   \n",
      "7    8  송찬의   LG  0.276  8  34  29   8   2   1   2    8   0   1   4    0   4   \n",
      "8    9  피렐라   삼성  0.273  8  24  22   6   1   1   1    4   0   1   2    0   4   \n",
      "9   10  김대한   두산  0.269  8  28  26   7   5   1   1    3   0   0   1    1   6   \n",
      "10  11  김호령  KIA  0.250  8  26  24   6   1   0   0    2   2   0   2    0   8   \n",
      "11  12  이재현   삼성  0.227  8  25  22   5   0   0   0    2   0   0   1    0   5   \n",
      "12  13  황대인  KIA  0.182  7  25  22   4   1   0   0    3   0   0   2    0   4   \n",
      "13  13  오재일   삼성  0.182  8  26  22   4   2   0   0    5   0   0   2    0   6   \n",
      "14  15  알포드   KT  0.167  8  25  24   4   1   0   1    5   0   0   1    0   7   \n",
      "15  16  문보경   LG  0.158  8  28  19   3   1   0   0    0   1   0   9    0   2   \n",
      "16  17  손아섭   NC  0.143  8  26  21   3   1   0   0    1   0   0   5    0   7   \n",
      "17  18  천재환   NC  0.087  8  24  23   2   0   0   0    0   0   0   1    0   9   \n",
      "\n",
      "    GDP  E  \n",
      "0     0  0  \n",
      "1     0  0  \n",
      "2     1  2  \n",
      "3     0  2  \n",
      "4     0  0  \n",
      "5     0  2  \n",
      "6     1  0  \n",
      "7     1  3  \n",
      "8     1  0  \n",
      "9     1  0  \n",
      "10    0  0  \n",
      "11    0  2  \n",
      "12    0  0  \n",
      "13    0  0  \n",
      "14    2  0  \n",
      "15    0  0  \n",
      "16    1  0  \n",
      "17    0  2  \n"
     ]
    }
   ],
   "source": [
    "import pandas as pd\n",
    "url = 'https://www.koreabaseball.com/Record/Player/HitterBasic/BasicOld.aspx'\n",
    "tables = pd.read_html( url )\n",
    "tables[0].to_excel(\"KBO_타자기록.xlsx\")\n",
    "df = pd.DataFrame( tables[0] )\n",
    "print( df )"
   ]
  },
  {
   "cell_type": "code",
   "execution_count": 3,
   "metadata": {},
   "outputs": [
    {
     "name": "stdout",
     "output_type": "stream",
     "text": [
      "<class 'pandas.core.frame.DataFrame'>\n",
      "RangeIndex: 100 entries, 0 to 99\n",
      "Data columns (total 12 columns):\n",
      " #   Column      Non-Null Count  Dtype  \n",
      "---  ------      --------------  -----  \n",
      " 0   Unnamed: 0  0 non-null      float64\n",
      " 1   순위          100 non-null    object \n",
      " 2   순위등락        100 non-null    object \n",
      " 3   앨범이미지       0 non-null      float64\n",
      " 4   곡 상세가기      100 non-null    object \n",
      " 5   곡정보         100 non-null    object \n",
      " 6   앨범          100 non-null    object \n",
      " 7   좋아요         100 non-null    object \n",
      " 8   듣기          100 non-null    object \n",
      " 9   담기          100 non-null    object \n",
      " 10  다운          100 non-null    object \n",
      " 11  뮤비          100 non-null    object \n",
      "dtypes: float64(2), object(10)\n",
      "memory usage: 9.5+ KB\n",
      "None\n",
      "      순위     순위등락 곡 상세가기                                                곡정보  \\\n",
      "0     1위  순위 동일 0    곡정보                                     Ditto NewJeans   \n",
      "1     2위  순위 동일 0    곡정보                                       OMG NewJeans   \n",
      "2     3위  순위 동일 0    곡정보                                  Hype boy NewJeans   \n",
      "3     4위  순위 동일 0    곡정보                             Teddy Bear STAYC(스테이씨)   \n",
      "4     5위  순위 동일 0    곡정보                파이팅 해야지 (Feat. 이영지) 부석순 (SEVENTEEN)   \n",
      "..   ...      ...    ...                                                ...   \n",
      "95   96위  단계 상승 1    곡정보                  봄여름가을겨울 (Still Life) BIGBANG (빅뱅)   \n",
      "96   97위  단계 상승 2    곡정보                                   밤하늘의 별을(2020) 경서   \n",
      "97   98위    순위 진입    곡정보        Jumper (Feat. 개코, MINO) 코드 쿤스트 (CODE KUNST)   \n",
      "98   99위  단계 하락 1    곡정보                                떠나보낼 준비해 둘걸 그랬어 임한별   \n",
      "99  100위    순위 진입    곡정보  마이웨이 (MY WAY) (Prod. R.Tee) 저스디스 (JUSTHIS), R....   \n",
      "\n",
      "                                    앨범         좋아요  듣기  담기    다운     뮤비  \n",
      "0                       NewJeans 'OMG'  좋아요 총건수  0  듣기  담기  다운로드  뮤직비디오  \n",
      "1                       NewJeans 'OMG'  좋아요 총건수  0  듣기  담기  다운로드  뮤직비디오  \n",
      "2          NewJeans 1st EP 'New Jeans'  좋아요 총건수  0  듣기  담기  다운로드  뮤직비디오  \n",
      "3                           Teddy Bear  좋아요 총건수  0  듣기  담기  다운로드  뮤직비디오  \n",
      "4   부석순 1st Single Album 'SECOND WIND'  좋아요 총건수  0  듣기  담기  다운로드  뮤직비디오  \n",
      "..                                 ...         ...  ..  ..   ...    ...  \n",
      "95                봄여름가을겨울 (Still Life)  좋아요 총건수  0  듣기  담기  다운로드  뮤직비디오  \n",
      "96                       밤하늘의 별을(2020)  좋아요 총건수  0  듣기  담기  다운로드  뮤직비디오  \n",
      "97                    Remember Archive  좋아요 총건수  0  듣기  담기  다운로드  뮤직비디오  \n",
      "98                     떠나보낼 준비해 둘걸 그랬어  좋아요 총건수  0  듣기  담기  다운로드  뮤직비디오  \n",
      "99                  쇼미더머니 11 Episode 1  좋아요 총건수  0  듣기  담기  다운로드  뮤직비디오  \n",
      "\n",
      "[100 rows x 10 columns]\n",
      "0                                        Ditto NewJeans\n",
      "1                                          OMG NewJeans\n",
      "2                                     Hype boy NewJeans\n",
      "3                                Teddy Bear STAYC(스테이씨)\n",
      "4                   파이팅 해야지 (Feat. 이영지) 부석순 (SEVENTEEN)\n",
      "                            ...                        \n",
      "95                    봄여름가을겨울 (Still Life) BIGBANG (빅뱅)\n",
      "96                                     밤하늘의 별을(2020) 경서\n",
      "97          Jumper (Feat. 개코, MINO) 코드 쿤스트 (CODE KUNST)\n",
      "98                                  떠나보낼 준비해 둘걸 그랬어 임한별\n",
      "99    마이웨이 (MY WAY) (Prod. R.Tee) 저스디스 (JUSTHIS), R....\n",
      "Name: 곡정보, Length: 100, dtype: object\n"
     ]
    }
   ],
   "source": [
    "import pandas as pd\n",
    "import requests \n",
    "from bs4 import BeautifulSoup as bs\n",
    "\n",
    "headers = {'user-agent': 'Mozilla/5.0 (Macintosh; Intel Mac OS X 10_15_7) AppleWebKit/537.36 (KHTML, like Gecko) Chrome/88.0.4324.96 Safari/537.36'}\n",
    "url = 'https://www.melon.com/chart/index.htm'\n",
    "\n",
    "response = requests.get(url, headers=headers)\n",
    "html = bs(response.text, \"html.parser\")\n",
    "html_table = html.select(\"table\")\n",
    "tables = pd.read_html(str(html_table))\n",
    "#print(tables)\n",
    "print(tables[0].info())\n",
    "chart = tables[0].drop( tables[0].columns[ [0,3] ], axis=1)\n",
    "print(chart)  \n",
    "print( chart['곡정보'])"
   ]
  },
  {
   "cell_type": "code",
   "execution_count": 4,
   "metadata": {},
   "outputs": [
    {
     "name": "stdout",
     "output_type": "stream",
     "text": [
      "   year  GDP rate     GDP\n",
      "0  2016       2.8  1.637M\n",
      "1  2017       3.1   1.73M\n",
      "2  2018       3.0   1.83M\n"
     ]
    }
   ],
   "source": [
    "# data frame 생성\n",
    "\n",
    "# 딕셔너리로 만들기\n",
    "data = {\n",
    "    'year' : [2016, 2017, 2018],\n",
    "    'GDP rate' : [2.8, 3.1, 3.0],\n",
    "    'GDP' : ['1.637M', '1.73M', '1.83M']\n",
    "}\n",
    "\n",
    "df = pd.DataFrame(data)\n",
    "print(df)"
   ]
  },
  {
   "cell_type": "code",
   "execution_count": 5,
   "metadata": {},
   "outputs": [
    {
     "data": {
      "text/plain": [
       "0    2016\n",
       "1    2017\n",
       "2    2018\n",
       "Name: year, dtype: int64"
      ]
     },
     "execution_count": 5,
     "metadata": {},
     "output_type": "execute_result"
    }
   ],
   "source": [
    "df['year']"
   ]
  },
  {
   "cell_type": "code",
   "execution_count": 7,
   "metadata": {},
   "outputs": [
    {
     "data": {
      "text/plain": [
       "year          2016\n",
       "GDP rate       2.8\n",
       "GDP         1.637M\n",
       "Name: 0, dtype: object"
      ]
     },
     "execution_count": 7,
     "metadata": {},
     "output_type": "execute_result"
    }
   ],
   "source": [
    "df.iloc[0]"
   ]
  },
  {
   "cell_type": "code",
   "execution_count": 8,
   "metadata": {},
   "outputs": [
    {
     "name": "stdout",
     "output_type": "stream",
     "text": [
      "   year  GDP rate    GDP\n",
      "1  2017       3.1  1.73M\n",
      "2  2018       3.0  1.83M\n"
     ]
    }
   ],
   "source": [
    "df2 = df.drop([0])\n",
    "print(df2)"
   ]
  },
  {
   "cell_type": "code",
   "execution_count": null,
   "metadata": {},
   "outputs": [],
   "source": [
    "print(df[df['GDP rate'] > 3.0]) # 행/열 번호 대신 조건식을 넣어 조건에 맞는 출력을 할 수 있다"
   ]
  },
  {
   "cell_type": "code",
   "execution_count": 6,
   "metadata": {},
   "outputs": [
    {
     "data": {
      "text/html": [
       "<div>\n",
       "<style scoped>\n",
       "    .dataframe tbody tr th:only-of-type {\n",
       "        vertical-align: middle;\n",
       "    }\n",
       "\n",
       "    .dataframe tbody tr th {\n",
       "        vertical-align: top;\n",
       "    }\n",
       "\n",
       "    .dataframe thead th {\n",
       "        text-align: right;\n",
       "    }\n",
       "</style>\n",
       "<table border=\"1\" class=\"dataframe\">\n",
       "  <thead>\n",
       "    <tr style=\"text-align: right;\">\n",
       "      <th></th>\n",
       "      <th>year</th>\n",
       "      <th>GDP rate</th>\n",
       "    </tr>\n",
       "  </thead>\n",
       "  <tbody>\n",
       "    <tr>\n",
       "      <th>count</th>\n",
       "      <td>3.0</td>\n",
       "      <td>3.000000</td>\n",
       "    </tr>\n",
       "    <tr>\n",
       "      <th>mean</th>\n",
       "      <td>2017.0</td>\n",
       "      <td>2.966667</td>\n",
       "    </tr>\n",
       "    <tr>\n",
       "      <th>std</th>\n",
       "      <td>1.0</td>\n",
       "      <td>0.152753</td>\n",
       "    </tr>\n",
       "    <tr>\n",
       "      <th>min</th>\n",
       "      <td>2016.0</td>\n",
       "      <td>2.800000</td>\n",
       "    </tr>\n",
       "    <tr>\n",
       "      <th>25%</th>\n",
       "      <td>2016.5</td>\n",
       "      <td>2.900000</td>\n",
       "    </tr>\n",
       "    <tr>\n",
       "      <th>50%</th>\n",
       "      <td>2017.0</td>\n",
       "      <td>3.000000</td>\n",
       "    </tr>\n",
       "    <tr>\n",
       "      <th>75%</th>\n",
       "      <td>2017.5</td>\n",
       "      <td>3.050000</td>\n",
       "    </tr>\n",
       "    <tr>\n",
       "      <th>max</th>\n",
       "      <td>2018.0</td>\n",
       "      <td>3.100000</td>\n",
       "    </tr>\n",
       "  </tbody>\n",
       "</table>\n",
       "</div>"
      ],
      "text/plain": [
       "         year  GDP rate\n",
       "count     3.0  3.000000\n",
       "mean   2017.0  2.966667\n",
       "std       1.0  0.152753\n",
       "min    2016.0  2.800000\n",
       "25%    2016.5  2.900000\n",
       "50%    2017.0  3.000000\n",
       "75%    2017.5  3.050000\n",
       "max    2018.0  3.100000"
      ]
     },
     "execution_count": 6,
     "metadata": {},
     "output_type": "execute_result"
    }
   ],
   "source": [
    "df.describe() "
   ]
  }
 ],
 "metadata": {
  "interpreter": {
   "hash": "6d46af94c2bbce495f1e668725902fa517c90b1782bcfe2fce0dd9868df553d3"
  },
  "kernelspec": {
   "display_name": "Python 3.9.13",
   "language": "python",
   "name": "python3"
  },
  "language_info": {
   "codemirror_mode": {
    "name": "ipython",
    "version": 3
   },
   "file_extension": ".py",
   "mimetype": "text/x-python",
   "name": "python",
   "nbconvert_exporter": "python",
   "pygments_lexer": "ipython3",
   "version": "3.9.13"
  },
  "orig_nbformat": 4
 },
 "nbformat": 4,
 "nbformat_minor": 2
}
