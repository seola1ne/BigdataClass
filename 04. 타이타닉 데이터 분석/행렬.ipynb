{
 "cells": [
  {
   "cell_type": "code",
   "execution_count": 1,
   "metadata": {},
   "outputs": [],
   "source": [
    "import pandas as pd\n",
    "jul = pd.DataFrame({\n",
    "    '지역':['부산', '서울', '대구'],\n",
    "    '음료수':[1, 3.3, 1.2],\n",
    "    '아이스크림':[3.5,1.5,1],\n",
    "    '과자류':[2,1,2]\n",
    "})\n",
    "aug = pd.DataFrame({\n",
    "    '지역':['부산', '서울', '대구'],\n",
    "    '음료수':[1.5, 3, 2],\n",
    "    '아이스크림':[3,2,1.2],\n",
    "    '과자류':[2,1.4,2]\n",
    "})\n"
   ]
  },
  {
   "cell_type": "code",
   "execution_count": 2,
   "metadata": {},
   "outputs": [
    {
     "name": "stdout",
     "output_type": "stream",
     "text": [
      "   지역  음료수  아이스크림  과자류  지역총합\n",
      "0  부산  1.0    3.5    2   6.5\n",
      "1  서울  3.3    1.5    1   5.8\n",
      "2  대구  1.2    1.0    2   4.2\n",
      "7월 총합 :  16.5\n",
      "   지역  음료수  아이스크림  과자류  지역총합\n",
      "0  부산  1.5    3.0  2.0   6.5\n",
      "1  서울  3.0    2.0  1.4   6.4\n",
      "2  대구  2.0    1.2  2.0   5.2\n",
      "8월총합 :  18.1\n"
     ]
    },
    {
     "name": "stderr",
     "output_type": "stream",
     "text": [
      "C:\\Users\\user\\AppData\\Local\\Temp\\ipykernel_11420\\2675869165.py:2: FutureWarning: Dropping of nuisance columns in DataFrame reductions (with 'numeric_only=None') is deprecated; in a future version this will raise TypeError.  Select only valid columns before calling the reduction.\n",
      "  jul['지역총합'] = jul.iloc[ :, :].sum(axis=1)\n",
      "C:\\Users\\user\\AppData\\Local\\Temp\\ipykernel_11420\\2675869165.py:6: FutureWarning: Dropping of nuisance columns in DataFrame reductions (with 'numeric_only=None') is deprecated; in a future version this will raise TypeError.  Select only valid columns before calling the reduction.\n",
      "  aug['지역총합'] = aug.iloc[:, :].sum(axis=1)\n"
     ]
    }
   ],
   "source": [
    "# 합계\n",
    "jul['지역총합'] = jul.iloc[ :, :].sum(axis=1)\n",
    "print(jul)\n",
    "\n",
    "print('7월 총합 : ', jul['지역총합'].sum())\n",
    "aug['지역총합'] = aug.iloc[:, :].sum(axis=1)\n",
    "print(aug)\n",
    "\n",
    "print('8월총합 : ', aug['지역총합'].sum())"
   ]
  },
  {
   "cell_type": "code",
   "execution_count": 3,
   "metadata": {},
   "outputs": [
    {
     "name": "stdout",
     "output_type": "stream",
     "text": [
      "   음료수  아이스크림  과자류\n",
      "0  0.5   -0.5  0.0\n",
      "1 -0.3    0.5  0.4\n",
      "2  0.8    0.2  0.0\n"
     ]
    }
   ],
   "source": [
    "diff = aug.iloc[:, 1:4] - jul.iloc[:, 1:4]\n",
    "print(diff)"
   ]
  },
  {
   "cell_type": "code",
   "execution_count": 4,
   "metadata": {},
   "outputs": [
    {
     "name": "stdout",
     "output_type": "stream",
     "text": [
      "   지역  음료수  아이스크림  과자류  지역총합  month\n",
      "0  부산  1.0    3.5    2   6.5      7\n",
      "1  서울  3.3    1.5    1   5.8      7\n",
      "2  대구  1.2    1.0    2   4.2      7\n",
      "   지역  음료수  아이스크림  과자류  지역총합  month\n",
      "0  부산  1.5    3.0  2.0   6.5      8\n",
      "1  서울  3.0    2.0  1.4   6.4      8\n",
      "2  대구  2.0    1.2  2.0   5.2      8\n"
     ]
    }
   ],
   "source": [
    "jul['month'] = [ 7 for i in range(len(jul))] # len(jul) : 행의 개수\n",
    "print(jul)\n",
    "\n",
    "aug['month'] = [ 8 for i in range(len(aug))]\n",
    "print(aug)"
   ]
  }
 ],
 "metadata": {
  "interpreter": {
   "hash": "6d46af94c2bbce495f1e668725902fa517c90b1782bcfe2fce0dd9868df553d3"
  },
  "kernelspec": {
   "display_name": "Python 3.9.13",
   "language": "python",
   "name": "python3"
  },
  "language_info": {
   "codemirror_mode": {
    "name": "ipython",
    "version": 3
   },
   "file_extension": ".py",
   "mimetype": "text/x-python",
   "name": "python",
   "nbconvert_exporter": "python",
   "pygments_lexer": "ipython3",
   "version": "3.9.13"
  },
  "orig_nbformat": 4
 },
 "nbformat": 4,
 "nbformat_minor": 2
}
